{
 "cells": [
  {
   "cell_type": "markdown",
   "metadata": {},
   "source": [
    "## Energy Function Optimization\n",
    "#### Reference 1: https://reader.elsevier.com/reader/sd/pii/S2214785319301592?token=FD7797439A4C92371F8F74E9358337583A878C58504AD78416CFF138F814BAC226114F817A83AE3E379EF7593E55E37D&originRegion=us-east-1&originCreation=20211204020425\n",
    "\n",
    "#### Reference 2: https://towardsdatascience.com/optimization-descent-algorithms-bf595f069788"
   ]
  },
  {
   "cell_type": "code",
   "execution_count": 81,
   "metadata": {},
   "outputs": [],
   "source": [
    "import numpy as np\n",
    "\n",
    "def rosenbrock(X, a=0.35, b=100):\n",
    "    x, y = X\n",
    "    return (a - x)**2 + b * (y - x**2)**2\n",
    "\n",
    "def rosenbrock_grad(X, a=0.35, b=10):\n",
    "    x, y = X\n",
    "    return np.array([\n",
    "        2 * (x - a) - 4 * b * x * (y - x**2),\n",
    "        2 * b * (y - x**2)\n",
    "    ])\n",
    "\n",
    "def rosenbrock_hess(X, a=0.35, b=100):\n",
    "    x, y = X\n",
    "    return np.matrix([\n",
    "        [2 - 4 * b * (y - 3 * x**2), -4 * b * x],\n",
    "        [-4 * b * x, 2 * b]\n",
    "    ])"
   ]
  },
  {
   "cell_type": "code",
   "execution_count": 82,
   "metadata": {},
   "outputs": [],
   "source": [
    "def newton(J_grad, J_hess, x_init, epsilon=1e-10, max_iterations=1000):\n",
    "    x = x_init\n",
    "    for i in range(max_iterations):\n",
    "        x = x - np.linalg.solve(J_hess(x), J_grad(x))\n",
    "        if np.linalg.norm(J_grad(x)) < epsilon:\n",
    "            return x, i + 1\n",
    "    return x, max_iterations"
   ]
  },
  {
   "cell_type": "code",
   "execution_count": 83,
   "metadata": {},
   "outputs": [
    {
     "name": "stdout",
     "output_type": "stream",
     "text": [
      "x* = [0.35   0.1225]\n",
      "Rosenbrock(x*) = 1.421832816813026e-21\n",
      "Grad Rosenbrock(x*) = [ 5.27900779e-11 -7.54143969e-11]\n",
      "Iterations = 298\n"
     ]
    }
   ],
   "source": [
    "# Rosenbrock has 2 input variables, I set them to zero at first\n",
    "\n",
    "x_min, it = newton(rosenbrock_grad, rosenbrock_hess, x_init)\n",
    "print('x* =', x_min)\n",
    "print('Rosenbrock(x*) =', rosenbrock(x_min))\n",
    "print('Grad Rosenbrock(x*) =', rosenbrock_grad(x_min))\n",
    "print('Iterations =', it)"
   ]
  },
  {
   "cell_type": "code",
   "execution_count": 72,
   "metadata": {},
   "outputs": [],
   "source": [
    "def gradient_descent(J_grad, x_init, alpha=0.01, epsilon=1e-10, max_iterations=1000):\n",
    "    x = x_init\n",
    "    for i in range(max_iterations):\n",
    "        x = x - alpha * J_grad(x)\n",
    "        if np.linalg.norm(J_grad(x)) < epsilon:\n",
    "            return x, i + 1\n",
    "    return x, max_iterations"
   ]
  },
  {
   "cell_type": "code",
   "execution_count": 86,
   "metadata": {},
   "outputs": [
    {
     "name": "stdout",
     "output_type": "stream",
     "text": [
      "x* = [0.35057143 0.12292842]\n",
      "Rosenbrock(x*) = 4.054688430496242e-07\n",
      "Grad Rosenbrock(x*) = [0.00074888 0.00056191]\n",
      "Iterations = 5000\n"
     ]
    }
   ],
   "source": [
    "x_init = [1.5, 3.27]\n",
    "x_min, it = gradient_descent(rosenbrock_grad, x_init, alpha=0.002, max_iterations=5000)\n",
    "print('x* =', x_min)\n",
    "print('Rosenbrock(x*) =', rosenbrock(x_min))\n",
    "print('Grad Rosenbrock(x*) =', rosenbrock_grad(x_min))\n",
    "print('Iterations =', it)"
   ]
  },
  {
   "cell_type": "code",
   "execution_count": null,
   "metadata": {},
   "outputs": [],
   "source": []
  }
 ],
 "metadata": {
  "kernelspec": {
   "display_name": "Python 3",
   "language": "python",
   "name": "python3"
  },
  "language_info": {
   "codemirror_mode": {
    "name": "ipython",
    "version": 3
   },
   "file_extension": ".py",
   "mimetype": "text/x-python",
   "name": "python",
   "nbconvert_exporter": "python",
   "pygments_lexer": "ipython3",
   "version": "3.7.6"
  }
 },
 "nbformat": 4,
 "nbformat_minor": 4
}
